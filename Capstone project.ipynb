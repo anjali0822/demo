{
 "cells": [
  {
   "cell_type": "code",
   "execution_count": 16,
   "id": "768af4de",
   "metadata": {},
   "outputs": [
    {
     "name": "stdout",
     "output_type": "stream",
     "text": [
      "Requirement already satisfied: selenium in c:\\users\\anjali\\anaconda3\\lib\\site-packages (4.8.0)\n",
      "Requirement already satisfied: trio-websocket~=0.9 in c:\\users\\anjali\\anaconda3\\lib\\site-packages (from selenium) (0.9.2)\n",
      "Requirement already satisfied: urllib3[socks]~=1.26 in c:\\users\\anjali\\anaconda3\\lib\\site-packages (from selenium) (1.26.9)\n",
      "Requirement already satisfied: certifi>=2021.10.8 in c:\\users\\anjali\\anaconda3\\lib\\site-packages (from selenium) (2021.10.8)\n",
      "Requirement already satisfied: trio~=0.17 in c:\\users\\anjali\\anaconda3\\lib\\site-packages (from selenium) (0.22.0)\n",
      "Requirement already satisfied: sniffio in c:\\users\\anjali\\anaconda3\\lib\\site-packages (from trio~=0.17->selenium) (1.2.0)\n",
      "Requirement already satisfied: idna in c:\\users\\anjali\\anaconda3\\lib\\site-packages (from trio~=0.17->selenium) (3.3)\n",
      "Requirement already satisfied: exceptiongroup>=1.0.0rc9 in c:\\users\\anjali\\anaconda3\\lib\\site-packages (from trio~=0.17->selenium) (1.1.0)\n",
      "Requirement already satisfied: cffi>=1.14 in c:\\users\\anjali\\anaconda3\\lib\\site-packages (from trio~=0.17->selenium) (1.15.0)\n",
      "Requirement already satisfied: attrs>=19.2.0 in c:\\users\\anjali\\anaconda3\\lib\\site-packages (from trio~=0.17->selenium) (21.4.0)\n",
      "Requirement already satisfied: outcome in c:\\users\\anjali\\anaconda3\\lib\\site-packages (from trio~=0.17->selenium) (1.2.0)\n",
      "Requirement already satisfied: async-generator>=1.9 in c:\\users\\anjali\\anaconda3\\lib\\site-packages (from trio~=0.17->selenium) (1.10)\n",
      "Requirement already satisfied: sortedcontainers in c:\\users\\anjali\\anaconda3\\lib\\site-packages (from trio~=0.17->selenium) (2.4.0)\n",
      "Requirement already satisfied: pycparser in c:\\users\\anjali\\anaconda3\\lib\\site-packages (from cffi>=1.14->trio~=0.17->selenium) (2.21)\n",
      "Requirement already satisfied: wsproto>=0.14 in c:\\users\\anjali\\anaconda3\\lib\\site-packages (from trio-websocket~=0.9->selenium) (1.2.0)\n",
      "Requirement already satisfied: PySocks!=1.5.7,<2.0,>=1.5.6 in c:\\users\\anjali\\anaconda3\\lib\\site-packages (from urllib3[socks]~=1.26->selenium) (1.7.1)\n",
      "Requirement already satisfied: h11<1,>=0.9.0 in c:\\users\\anjali\\anaconda3\\lib\\site-packages (from wsproto>=0.14->trio-websocket~=0.9->selenium) (0.14.0)\n"
     ]
    }
   ],
   "source": [
    "!pip install selenium"
   ]
  },
  {
   "cell_type": "code",
   "execution_count": 17,
   "id": "4c2c0d3d",
   "metadata": {},
   "outputs": [],
   "source": [
    "import selenium\n",
    "import pandas as pd\n",
    "from selenium import webdriver\n",
    "import warnings\n",
    "warnings.filterwarnings('ignore')\n",
    "from selenium.webdriver.common.by import By\n",
    "import time"
   ]
  },
  {
   "cell_type": "code",
   "execution_count": 18,
   "id": "975b34ee",
   "metadata": {},
   "outputs": [],
   "source": [
    "driver=webdriver.Chrome(r\"chromedriver.exe\")"
   ]
  },
  {
   "cell_type": "code",
   "execution_count": 19,
   "id": "b3cd06b5",
   "metadata": {},
   "outputs": [],
   "source": [
    "driver.get(\"https://www.imdb.com/search/title/?genres=action&sort=user_rating,desc&title_type=feature&num_votes=25000,&pf_rd_m=A2FGELUUNOQJNL&pf_rd_p=f11158cc-b50b-4c4d-b0a2-40b32863395b&pf_rd_r=XZ8X52H1R40B7KG5SNZ9&pf_rd_s=right-6&pf_rd_t=15506&pf_rd_i=top&ref_=chttp_gnr_1\")"
   ]
  },
  {
   "cell_type": "code",
   "execution_count": 20,
   "id": "6afb776d",
   "metadata": {},
   "outputs": [],
   "source": [
    "sno=[]\n",
    "movie_name=[]\n",
    "director1_name=[]\n",
    "director2_name=[]\n",
    "duration=[]\n",
    "year=[]\n",
    "ratings=[]\n",
    "metascore=[]"
   ]
  },
  {
   "cell_type": "code",
   "execution_count": 21,
   "id": "5dc26eff",
   "metadata": {},
   "outputs": [],
   "source": [
    "no=driver.find_elements(By.XPATH,'//span[@class=\"lister-item-index unbold text-primary\"]')\n",
    "for i in no:\n",
    "    spl=i.text.split('.')\n",
    "    sno.append(spl[0])\n",
    "    \n",
    "name=driver.find_elements(By.XPATH,'//h3[@class=\"lister-item-header\"]/a')\n",
    "for i in name:\n",
    "    movie_name.append(i.text)\n",
    "    \n",
    "dur=driver.find_elements(By.XPATH,'//span[@class=\"runtime\"]')\n",
    "for i in dur:\n",
    "    r=i.text.split()\n",
    "    duration.append(r[0])\n",
    "    \n",
    "yr=driver.find_elements(By.XPATH,'//span[@class=\"lister-item-year text-muted unbold\"]')\n",
    "for i in yr:\n",
    "    year.append(i.text)\n",
    "    \n",
    "rating=driver.find_elements(By.XPATH,'//div[@class=\"ratings-bar\"]/div[1]/strong')\n",
    "for i in rating:\n",
    "    ratings.append(i.text)\n",
    "\n",
    "time.sleep(5)"
   ]
  },
  {
   "cell_type": "code",
   "execution_count": 22,
   "id": "9f176059",
   "metadata": {},
   "outputs": [],
   "source": [
    "director1=driver.find_elements(By.XPATH,'//*[@class=\"lister-item-content\"]/p[3]/a[1]')\n",
    "for i in director1:\n",
    "    director1_name.append(i.text)"
   ]
  },
  {
   "cell_type": "code",
   "execution_count": 23,
   "id": "eb882c06",
   "metadata": {},
   "outputs": [
    {
     "data": {
      "text/plain": [
       "(50, 50, 50, 50, 50, 50)"
      ]
     },
     "execution_count": 23,
     "metadata": {},
     "output_type": "execute_result"
    }
   ],
   "source": [
    "# let's check length of data collected\n",
    "len(sno), len(movie_name), len(director1_name), len(duration), len(year), len(ratings)"
   ]
  },
  {
   "cell_type": "code",
   "execution_count": 24,
   "id": "105f1713",
   "metadata": {},
   "outputs": [],
   "source": [
    "next_button= driver.find_element(By.XPATH,'/html/body/div[2]/div/div[2]/div[3]/div[1]/div/div[1]/div[2]/a')\n",
    "next_button.click()"
   ]
  },
  {
   "cell_type": "code",
   "execution_count": 38,
   "id": "34e97245",
   "metadata": {},
   "outputs": [],
   "source": [
    "from selenium.common.exceptions import NoSuchElementException"
   ]
  },
  {
   "cell_type": "code",
   "execution_count": 41,
   "id": "5588bdb8",
   "metadata": {},
   "outputs": [
    {
     "ename": "SyntaxError",
     "evalue": "'break' outside loop (502616389.py, line 35)",
     "output_type": "error",
     "traceback": [
      "\u001b[1;36m  Input \u001b[1;32mIn [41]\u001b[1;36m\u001b[0m\n\u001b[1;33m    break\u001b[0m\n\u001b[1;37m    ^\u001b[0m\n\u001b[1;31mSyntaxError\u001b[0m\u001b[1;31m:\u001b[0m 'break' outside loop\n"
     ]
    }
   ],
   "source": [
    "s = driver.find_elements(By.XPATH, '//span[@class=\"lister-item-index unbold text-primary\"]')\n",
    "for i in s:\n",
    "    spl = i.text.split('.')\n",
    "    sno.append(spl[0])\n",
    "    \n",
    "name = driver.find_elements(By.XPATH, '//h3[@class=\"lister-item-header\"]/a')\n",
    "for i in name:\n",
    "    movie_name.append(i.text)\n",
    "    \n",
    "director1 = driver.find_elements(By.XPATH, '//*[@class=\"lister-item-content\"]/p[3]/a[1]')\n",
    "for i in director1:\n",
    "    director1_name.append(i.text)\n",
    "    \n",
    "dur = driver.find_elements(By.XPATH, '//span[@class=\"runtime\"]')\n",
    "for i in dur:\n",
    "    r = i.text.split()\n",
    "    duration.append(r[0])\n",
    "    \n",
    "yr = driver.find_elements(By.XPATH, '//span[@class=\"lister-item-year text-muted unbold\"]')\n",
    "for i in yr:\n",
    "    year.append(i.text)\n",
    "    \n",
    "rng = driver.find_elements(By.XPATH, '//div[@class=\"ratings-bar\"]/div[1]/strong')\n",
    "for i in rng:\n",
    "    ratings.append(i.text)\n",
    "    \n",
    "\n",
    "#finding the next button and clicking on it\n",
    "\n",
    "try:\n",
    "    next_button = driver.find_element(By.XPATH, '/html/body/div[2]/div/div[2]/div[3]/div[1]/div/div[1]/div[2]/a[2]')\n",
    "    next_button.click()\n",
    "    \n",
    "except NoSuchElementException:\n",
    "    break\n",
    "\n",
    "time.sleep(5)"
   ]
  },
  {
   "cell_type": "code",
   "execution_count": null,
   "id": "88c40a1c",
   "metadata": {},
   "outputs": [],
   "source": []
  },
  {
   "cell_type": "code",
   "execution_count": null,
   "id": "7f896b99",
   "metadata": {},
   "outputs": [],
   "source": []
  }
 ],
 "metadata": {
  "kernelspec": {
   "display_name": "Python 3 (ipykernel)",
   "language": "python",
   "name": "python3"
  },
  "language_info": {
   "codemirror_mode": {
    "name": "ipython",
    "version": 3
   },
   "file_extension": ".py",
   "mimetype": "text/x-python",
   "name": "python",
   "nbconvert_exporter": "python",
   "pygments_lexer": "ipython3",
   "version": "3.9.12"
  }
 },
 "nbformat": 4,
 "nbformat_minor": 5
}
